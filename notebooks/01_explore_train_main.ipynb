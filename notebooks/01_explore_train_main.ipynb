{
 "cells": [
  {
   "cell_type": "markdown",
   "id": "18b432c9",
   "metadata": {},
   "source": [
    "# Defect Detection Project Example\n",
    "\n",
    "This notebook will show the process for building and training a model for multi-class defect classification and localization.  \n",
    "\n",
    "We will use the **Capsule** data from the [MVTec AD dataset](https://www.mvtec.com/company/research/datasets/mvtec-ad).  \n",
    "The data is released under the *Creative Commons Attribution-NonCommercial-ShareAlike 4.0 International License (CC BY-NC-SA 4.0)*.  \n",
    "The dataset is used strictly for non-commercial, educational purposes.\n",
    "\n",
    "The model will detect if the image of a medicinal capsule has a defect, and in that case will detect its location on the pircure."
   ]
  },
  {
   "cell_type": "markdown",
   "id": "7adb16f0",
   "metadata": {},
   "source": [
    "## 1. Setup"
   ]
  },
  {
   "cell_type": "markdown",
   "id": "9599b158",
   "metadata": {},
   "source": [
    "### 1.1 Imports"
   ]
  },
  {
   "cell_type": "code",
   "execution_count": null,
   "id": "c42b01c8",
   "metadata": {},
   "outputs": [
    {
     "name": "stderr",
     "output_type": "stream",
     "text": [
      "2025-06-12 15:10:28.673674: I tensorflow/core/util/port.cc:153] oneDNN custom operations are on. You may see slightly different numerical results due to floating-point round-off errors from different computation orders. To turn them off, set the environment variable `TF_ENABLE_ONEDNN_OPTS=0`.\n",
      "2025-06-12 15:10:28.681457: E external/local_xla/xla/stream_executor/cuda/cuda_fft.cc:467] Unable to register cuFFT factory: Attempting to register factory for plugin cuFFT when one has already been registered\n",
      "WARNING: All log messages before absl::InitializeLog() is called are written to STDERR\n",
      "E0000 00:00:1749733828.690249   29082 cuda_dnn.cc:8579] Unable to register cuDNN factory: Attempting to register factory for plugin cuDNN when one has already been registered\n",
      "E0000 00:00:1749733828.693011   29082 cuda_blas.cc:1407] Unable to register cuBLAS factory: Attempting to register factory for plugin cuBLAS when one has already been registered\n",
      "W0000 00:00:1749733828.700541   29082 computation_placer.cc:177] computation placer already registered. Please check linkage and avoid linking the same target more than once.\n",
      "W0000 00:00:1749733828.700555   29082 computation_placer.cc:177] computation placer already registered. Please check linkage and avoid linking the same target more than once.\n",
      "W0000 00:00:1749733828.700557   29082 computation_placer.cc:177] computation placer already registered. Please check linkage and avoid linking the same target more than once.\n",
      "W0000 00:00:1749733828.700559   29082 computation_placer.cc:177] computation placer already registered. Please check linkage and avoid linking the same target more than once.\n",
      "2025-06-12 15:10:28.703430: I tensorflow/core/platform/cpu_feature_guard.cc:210] This TensorFlow binary is optimized to use available CPU instructions in performance-critical operations.\n",
      "To enable the following instructions: AVX2 AVX_VNNI FMA, in other operations, rebuild TensorFlow with the appropriate compiler flags.\n"
     ]
    }
   ],
   "source": [
    "import numpy as np\n",
    "import pandas as pd\n",
    "import matplotlib.pyplot as plt\n",
    "import tensorflow as tf\n",
    "from pathlib import Path"
   ]
  },
  {
   "cell_type": "markdown",
   "id": "d56e9f5a",
   "metadata": {},
   "source": [
    "### 1.2 Global Settings"
   ]
  },
  {
   "cell_type": "code",
   "execution_count": null,
   "id": "70c65927",
   "metadata": {},
   "outputs": [],
   "source": []
  },
  {
   "cell_type": "markdown",
   "id": "3964fcda",
   "metadata": {},
   "source": [
    "### 1.3 Dataset Paths & Metadata"
   ]
  },
  {
   "cell_type": "code",
   "execution_count": 2,
   "id": "eec4921f",
   "metadata": {},
   "outputs": [],
   "source": [
    "root = Path(\"../data/capsule\")\n",
    "train_dir = root / \"train\" / \"good\"\n",
    "test_dir = root / \"test\"\n",
    "gt_dir = root / \"ground_truth\""
   ]
  },
  {
   "cell_type": "code",
   "execution_count": 3,
   "id": "8ea8b9e7",
   "metadata": {},
   "outputs": [],
   "source": [
    "# TRAIN SET\n",
    "train_df = pd.DataFrame({\n",
    "    \"filepath\": [str(p) for p in (train_dir.glob(\"*.png\"))],\n",
    "    \"label_binary\": 0,\n",
    "    \"defect_type\": \"good\",\n",
    "    \"mask_path\": None\n",
    "})"
   ]
  },
  {
   "cell_type": "code",
   "execution_count": 4,
   "id": "cf57f25d",
   "metadata": {},
   "outputs": [],
   "source": [
    "# TEST SET\n",
    "records = []\n",
    "for defect_folder in test_dir.iterdir():\n",
    "    label = 0 if defect_folder.name == \"good\" else 1\n",
    "    for img_path in defect_folder.glob(\"*.png\"):\n",
    "        mask_name = img_path.stem + \"_mask.png\"  # e.g. '001' -> '001_mask.png'\n",
    "        mask_path = (gt_dir / defect_folder.name / mask_name\n",
    "                     if label == 1 else None)\n",
    "        records.append({\n",
    "            \"filepath\": str(img_path),\n",
    "            \"label_binary\": label,\n",
    "            \"defect_type\": defect_folder.name,\n",
    "            \"mask_path\": str(mask_path) if mask_path and mask_path.exists() else None\n",
    "        })\n",
    "\n",
    "test_df = pd.DataFrame(records)"
   ]
  },
  {
   "cell_type": "code",
   "execution_count": 5,
   "id": "06761f05",
   "metadata": {},
   "outputs": [],
   "source": [
    "class_names = ['good'] + sorted([cls for cls in test_df[\"defect_type\"].unique() if cls != 'good'])\n",
    "class_to_idx = {name: idx for idx, name in enumerate(class_names)}\n",
    "\n",
    "# Add class ID column\n",
    "test_df[\"label_multiclass\"] = test_df[\"defect_type\"].map(class_to_idx)\n",
    "train_df[\"label_multiclass\"] = class_to_idx[\"good\"]"
   ]
  },
  {
   "cell_type": "code",
   "execution_count": 6,
   "id": "305f59a0",
   "metadata": {},
   "outputs": [
    {
     "data": {
      "text/plain": [
       "['good', 'crack', 'faulty_imprint', 'poke', 'scratch', 'squeeze']"
      ]
     },
     "execution_count": 6,
     "metadata": {},
     "output_type": "execute_result"
    }
   ],
   "source": [
    "class_names"
   ]
  },
  {
   "cell_type": "code",
   "execution_count": 7,
   "id": "3e5bbfce",
   "metadata": {},
   "outputs": [
    {
     "data": {
      "text/html": [
       "<div>\n",
       "<style scoped>\n",
       "    .dataframe tbody tr th:only-of-type {\n",
       "        vertical-align: middle;\n",
       "    }\n",
       "\n",
       "    .dataframe tbody tr th {\n",
       "        vertical-align: top;\n",
       "    }\n",
       "\n",
       "    .dataframe thead th {\n",
       "        text-align: right;\n",
       "    }\n",
       "</style>\n",
       "<table border=\"1\" class=\"dataframe\">\n",
       "  <thead>\n",
       "    <tr style=\"text-align: right;\">\n",
       "      <th></th>\n",
       "      <th>filepath</th>\n",
       "      <th>label_binary</th>\n",
       "      <th>defect_type</th>\n",
       "      <th>mask_path</th>\n",
       "      <th>label_multiclass</th>\n",
       "    </tr>\n",
       "  </thead>\n",
       "  <tbody>\n",
       "    <tr>\n",
       "      <th>0</th>\n",
       "      <td>../data/capsule/train/good/095.png</td>\n",
       "      <td>0</td>\n",
       "      <td>good</td>\n",
       "      <td>None</td>\n",
       "      <td>0</td>\n",
       "    </tr>\n",
       "    <tr>\n",
       "      <th>1</th>\n",
       "      <td>../data/capsule/train/good/036.png</td>\n",
       "      <td>0</td>\n",
       "      <td>good</td>\n",
       "      <td>None</td>\n",
       "      <td>0</td>\n",
       "    </tr>\n",
       "    <tr>\n",
       "      <th>2</th>\n",
       "      <td>../data/capsule/train/good/028.png</td>\n",
       "      <td>0</td>\n",
       "      <td>good</td>\n",
       "      <td>None</td>\n",
       "      <td>0</td>\n",
       "    </tr>\n",
       "    <tr>\n",
       "      <th>3</th>\n",
       "      <td>../data/capsule/train/good/039.png</td>\n",
       "      <td>0</td>\n",
       "      <td>good</td>\n",
       "      <td>None</td>\n",
       "      <td>0</td>\n",
       "    </tr>\n",
       "    <tr>\n",
       "      <th>4</th>\n",
       "      <td>../data/capsule/train/good/149.png</td>\n",
       "      <td>0</td>\n",
       "      <td>good</td>\n",
       "      <td>None</td>\n",
       "      <td>0</td>\n",
       "    </tr>\n",
       "  </tbody>\n",
       "</table>\n",
       "</div>"
      ],
      "text/plain": [
       "                             filepath  label_binary defect_type mask_path  \\\n",
       "0  ../data/capsule/train/good/095.png             0        good      None   \n",
       "1  ../data/capsule/train/good/036.png             0        good      None   \n",
       "2  ../data/capsule/train/good/028.png             0        good      None   \n",
       "3  ../data/capsule/train/good/039.png             0        good      None   \n",
       "4  ../data/capsule/train/good/149.png             0        good      None   \n",
       "\n",
       "   label_multiclass  \n",
       "0                 0  \n",
       "1                 0  \n",
       "2                 0  \n",
       "3                 0  \n",
       "4                 0  "
      ]
     },
     "execution_count": 7,
     "metadata": {},
     "output_type": "execute_result"
    }
   ],
   "source": [
    "train_df.head()"
   ]
  },
  {
   "cell_type": "code",
   "execution_count": 9,
   "id": "837e848f",
   "metadata": {},
   "outputs": [
    {
     "data": {
      "text/html": [
       "<div>\n",
       "<style scoped>\n",
       "    .dataframe tbody tr th:only-of-type {\n",
       "        vertical-align: middle;\n",
       "    }\n",
       "\n",
       "    .dataframe tbody tr th {\n",
       "        vertical-align: top;\n",
       "    }\n",
       "\n",
       "    .dataframe thead th {\n",
       "        text-align: right;\n",
       "    }\n",
       "</style>\n",
       "<table border=\"1\" class=\"dataframe\">\n",
       "  <thead>\n",
       "    <tr style=\"text-align: right;\">\n",
       "      <th></th>\n",
       "      <th>filepath</th>\n",
       "      <th>label_binary</th>\n",
       "      <th>defect_type</th>\n",
       "      <th>mask_path</th>\n",
       "      <th>label_multiclass</th>\n",
       "    </tr>\n",
       "  </thead>\n",
       "  <tbody>\n",
       "    <tr>\n",
       "      <th>0</th>\n",
       "      <td>../data/capsule/test/squeeze/017.png</td>\n",
       "      <td>1</td>\n",
       "      <td>squeeze</td>\n",
       "      <td>../data/capsule/ground_truth/squeeze/017_mask.png</td>\n",
       "      <td>5</td>\n",
       "    </tr>\n",
       "    <tr>\n",
       "      <th>1</th>\n",
       "      <td>../data/capsule/test/squeeze/002.png</td>\n",
       "      <td>1</td>\n",
       "      <td>squeeze</td>\n",
       "      <td>../data/capsule/ground_truth/squeeze/002_mask.png</td>\n",
       "      <td>5</td>\n",
       "    </tr>\n",
       "    <tr>\n",
       "      <th>2</th>\n",
       "      <td>../data/capsule/test/squeeze/005.png</td>\n",
       "      <td>1</td>\n",
       "      <td>squeeze</td>\n",
       "      <td>../data/capsule/ground_truth/squeeze/005_mask.png</td>\n",
       "      <td>5</td>\n",
       "    </tr>\n",
       "    <tr>\n",
       "      <th>3</th>\n",
       "      <td>../data/capsule/test/squeeze/013.png</td>\n",
       "      <td>1</td>\n",
       "      <td>squeeze</td>\n",
       "      <td>../data/capsule/ground_truth/squeeze/013_mask.png</td>\n",
       "      <td>5</td>\n",
       "    </tr>\n",
       "    <tr>\n",
       "      <th>4</th>\n",
       "      <td>../data/capsule/test/squeeze/010.png</td>\n",
       "      <td>1</td>\n",
       "      <td>squeeze</td>\n",
       "      <td>../data/capsule/ground_truth/squeeze/010_mask.png</td>\n",
       "      <td>5</td>\n",
       "    </tr>\n",
       "  </tbody>\n",
       "</table>\n",
       "</div>"
      ],
      "text/plain": [
       "                               filepath  label_binary defect_type  \\\n",
       "0  ../data/capsule/test/squeeze/017.png             1     squeeze   \n",
       "1  ../data/capsule/test/squeeze/002.png             1     squeeze   \n",
       "2  ../data/capsule/test/squeeze/005.png             1     squeeze   \n",
       "3  ../data/capsule/test/squeeze/013.png             1     squeeze   \n",
       "4  ../data/capsule/test/squeeze/010.png             1     squeeze   \n",
       "\n",
       "                                           mask_path  label_multiclass  \n",
       "0  ../data/capsule/ground_truth/squeeze/017_mask.png                 5  \n",
       "1  ../data/capsule/ground_truth/squeeze/002_mask.png                 5  \n",
       "2  ../data/capsule/ground_truth/squeeze/005_mask.png                 5  \n",
       "3  ../data/capsule/ground_truth/squeeze/013_mask.png                 5  \n",
       "4  ../data/capsule/ground_truth/squeeze/010_mask.png                 5  "
      ]
     },
     "execution_count": 9,
     "metadata": {},
     "output_type": "execute_result"
    }
   ],
   "source": [
    "test_df.head()"
   ]
  },
  {
   "cell_type": "code",
   "execution_count": 10,
   "id": "e6c846c0",
   "metadata": {},
   "outputs": [
    {
     "name": "stderr",
     "output_type": "stream",
     "text": [
      "W0000 00:00:1749734463.677982   29082 gpu_device.cc:2430] TensorFlow was not built with CUDA kernel binaries compatible with compute capability 12.0. CUDA kernels will be jit-compiled from PTX, which could take 30 minutes or longer.\n",
      "W0000 00:00:1749734463.683388   29082 gpu_device.cc:2430] TensorFlow was not built with CUDA kernel binaries compatible with compute capability 12.0. CUDA kernels will be jit-compiled from PTX, which could take 30 minutes or longer.\n",
      "I0000 00:00:1749734463.768814   29082 gpu_device.cc:2019] Created device /job:localhost/replica:0/task:0/device:GPU:0 with 12953 MB memory:  -> device: 0, name: NVIDIA GeForce RTX 5060 Ti, pci bus id: 0000:01:00.0, compute capability: 12.0\n"
     ]
    }
   ],
   "source": [
    "\n",
    "def load_image_and_label(path, label):\n",
    "    image = tf.io.read_file(path)\n",
    "    image = tf.image.decode_png(image, channels=3)\n",
    "    image = tf.image.resize(image, [1000, 1000])  # Adjust as needed\n",
    "    image = tf.cast(image, tf.float32) / 255.0\n",
    "    return image, label\n",
    "\n",
    "def df_to_dataset(df, label_column, batch_size=32, shuffle=True):\n",
    "    paths = df[\"filepath\"].values\n",
    "    labels = df[label_column].values\n",
    "    ds = tf.data.Dataset.from_tensor_slices((paths, labels))\n",
    "    ds = ds.map(lambda x, y: load_image_and_label(x, y),\n",
    "                num_parallel_calls=tf.data.AUTOTUNE)\n",
    "    if shuffle:\n",
    "        ds = ds.shuffle(buffer_size=len(df))\n",
    "    return ds.batch(batch_size).prefetch(tf.data.AUTOTUNE)\n",
    "\n",
    "train_ds = df_to_dataset(train_df, \"label_multiclass\")\n",
    "test_ds = df_to_dataset(test_df, \"label_multiclass\", shuffle=False)"
   ]
  },
  {
   "cell_type": "markdown",
   "id": "7681f340",
   "metadata": {},
   "source": [
    "## 2. Data Analysis & Visualization"
   ]
  },
  {
   "cell_type": "markdown",
   "id": "91dabc70",
   "metadata": {},
   "source": [
    "### 2.1 Class/Type Distribution"
   ]
  },
  {
   "cell_type": "markdown",
   "id": "933300f0",
   "metadata": {},
   "source": [
    "### 2.2 Sample Visualization"
   ]
  },
  {
   "cell_type": "markdown",
   "id": "87db6828",
   "metadata": {},
   "source": [
    "### 2.3 Image Properties"
   ]
  },
  {
   "cell_type": "markdown",
   "id": "877c95f4",
   "metadata": {},
   "source": [
    "## 3. Preprocessing & Data Pipeline"
   ]
  },
  {
   "cell_type": "markdown",
   "id": "362fa21e",
   "metadata": {},
   "source": [
    "### 3.1 Data Splits"
   ]
  },
  {
   "cell_type": "markdown",
   "id": "50d98cef",
   "metadata": {},
   "source": [
    "### 3.2 Data Augmentation"
   ]
  },
  {
   "cell_type": "markdown",
   "id": "6b0aa4e1",
   "metadata": {},
   "source": [
    "### 3.3 Label Encoding"
   ]
  },
  {
   "cell_type": "markdown",
   "id": "6e4de1b1",
   "metadata": {},
   "source": [
    "## 4. Model Architecture"
   ]
  },
  {
   "cell_type": "markdown",
   "id": "7e77b5a8",
   "metadata": {},
   "source": [
    "### 4.1 Base (Transfer Learning)"
   ]
  },
  {
   "cell_type": "markdown",
   "id": "09c34a58",
   "metadata": {},
   "source": [
    "### 4.2 Multi-Head Outputs"
   ]
  },
  {
   "cell_type": "markdown",
   "id": "0e9352a0",
   "metadata": {},
   "source": [
    "### 4.3 Combined Model"
   ]
  },
  {
   "cell_type": "markdown",
   "id": "d910af09",
   "metadata": {},
   "source": [
    "## 5. Losses & Metrics"
   ]
  },
  {
   "cell_type": "markdown",
   "id": "839e32c1",
   "metadata": {},
   "source": [
    "### 5.1 Custom Loss"
   ]
  },
  {
   "cell_type": "markdown",
   "id": "8543445f",
   "metadata": {},
   "source": [
    "### 5.2 Callbacks"
   ]
  },
  {
   "cell_type": "markdown",
   "id": "e1aec3af",
   "metadata": {},
   "source": [
    "## 6. Training"
   ]
  },
  {
   "cell_type": "markdown",
   "id": "fdfcbda2",
   "metadata": {},
   "source": [
    "### 6.1 Fit Model"
   ]
  },
  {
   "cell_type": "markdown",
   "id": "7787f534",
   "metadata": {},
   "source": [
    "### 6.2 Monitor Performance"
   ]
  },
  {
   "cell_type": "markdown",
   "id": "a57c6dd2",
   "metadata": {},
   "source": [
    "## 7. Evaluation"
   ]
  },
  {
   "cell_type": "markdown",
   "id": "778b10c2",
   "metadata": {},
   "source": [
    "### 7.1 Quantitative Evaluation"
   ]
  },
  {
   "cell_type": "markdown",
   "id": "2da44720",
   "metadata": {},
   "source": [
    "### 7.2 Qualitative Results"
   ]
  },
  {
   "cell_type": "markdown",
   "id": "f13f8ba1",
   "metadata": {},
   "source": [
    "## 8. Exporting for Reuse & Deployment"
   ]
  },
  {
   "cell_type": "markdown",
   "id": "f888f12f",
   "metadata": {},
   "source": [
    "## 9. Inference Code"
   ]
  }
 ],
 "metadata": {
  "kernelspec": {
   "display_name": "ml-env",
   "language": "python",
   "name": "python3"
  },
  "language_info": {
   "codemirror_mode": {
    "name": "ipython",
    "version": 3
   },
   "file_extension": ".py",
   "mimetype": "text/x-python",
   "name": "python",
   "nbconvert_exporter": "python",
   "pygments_lexer": "ipython3",
   "version": "3.12.3"
  }
 },
 "nbformat": 4,
 "nbformat_minor": 5
}
